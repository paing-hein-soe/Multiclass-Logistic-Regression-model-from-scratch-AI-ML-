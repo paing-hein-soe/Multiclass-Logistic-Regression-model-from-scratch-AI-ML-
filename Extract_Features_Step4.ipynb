{
 "cells": [
  {
   "cell_type": "code",
   "execution_count": 10,
   "id": "910d48a5-ded0-40a4-b152-01d823cc6745",
   "metadata": {},
   "outputs": [
    {
     "data": {
      "text/plain": [
       "{'Wind Plant_resize': 0, 'Solar Farm_resize': 1, 'Thermal Plant_resize': 2}"
      ]
     },
     "metadata": {},
     "output_type": "display_data"
    }
   ],
   "source": [
    "#%%\n",
    "\"\"\"\n",
    "Model: Multiclass Logistic Regression (Classficatio Model)  \n",
    "@: paing_hein_soe\n",
    "LinkedIn: https://www.linkedin.com/in/paing-hein-soe/\n",
    "\n",
    "Step 4: Extract Features from Resized Images\n",
    "\n",
    "\"\"\"\n",
    "import os\n",
    "import numpy as np\n",
    "from PIL import Image\n",
    "\n",
    "# Define the folder paths\n",
    "image_categories = [\"Wind Plant\", \"Solar Farm\", \"Thermal Plant\"]\n",
    "folder_path_parent=\"D:\\ML_Archived\\GoogleImage_LogReg\"\n",
    "folder_name_items = image_categories\n",
    "\n",
    "output_folders = [folder_path_parent + \"\\\\\" + item + \"_resize\" for item in folder_name_items]\n",
    "target_labels = {item + \"_resize\": idx for idx, item in enumerate(folder_name_items)}\n",
    "display(target_labels)"
   ]
  },
  {
   "cell_type": "code",
   "execution_count": 11,
   "id": "49df5811-ce42-4006-8032-ef0f857c6a2e",
   "metadata": {},
   "outputs": [
    {
     "name": "stdout",
     "output_type": "stream",
     "text": [
      "Shape of feature matrix: (222, 7500)\n",
      "Shape of target array: (222,)\n"
     ]
    }
   ],
   "source": [
    "#%%\n",
    "# Initialize lists to store features and labels\n",
    "features = []\n",
    "labels = []\n",
    "\n",
    "# Iterate over each output folder\n",
    "for folder_path in output_folders:\n",
    "    # Get the label for the current folder\n",
    "    label = target_labels[os.path.basename(folder_path)]\n",
    "\n",
    "    # Iterate over each image in the folder\n",
    "    for filename in os.listdir(folder_path):\n",
    "        if filename.endswith('.jpg'):\n",
    "            # Open the image\n",
    "            img_path = os.path.join(folder_path, filename)\n",
    "            img = Image.open(img_path)\n",
    "\n",
    "            # Convert the image to RGB mode\n",
    "            img = img.convert('RGB')\n",
    "\n",
    "            # Flatten the image into a 1D array\n",
    "            img_array = np.array(img).flatten()\n",
    "\n",
    "            # Append the flattened image array and label to the lists\n",
    "            features.append(img_array)\n",
    "            labels.append(label)\n",
    "\n",
    "#%%\n",
    "# Convert the lists to numpy arrays\n",
    "X = np.array(features)\n",
    "y = np.array(labels)\n",
    "\n",
    "# Print the shape of the feature matrix and target array\n",
    "print(\"Shape of feature matrix:\", X.shape)\n",
    "print(\"Shape of target array:\", y.shape)\n",
    "\n",
    "#%%"
   ]
  }
 ],
 "metadata": {
  "kernelspec": {
   "display_name": "Python 3 (ipykernel)",
   "language": "python",
   "name": "python3"
  },
  "language_info": {
   "codemirror_mode": {
    "name": "ipython",
    "version": 3
   },
   "file_extension": ".py",
   "mimetype": "text/x-python",
   "name": "python",
   "nbconvert_exporter": "python",
   "pygments_lexer": "ipython3",
   "version": "3.8.15"
  }
 },
 "nbformat": 4,
 "nbformat_minor": 5
}
